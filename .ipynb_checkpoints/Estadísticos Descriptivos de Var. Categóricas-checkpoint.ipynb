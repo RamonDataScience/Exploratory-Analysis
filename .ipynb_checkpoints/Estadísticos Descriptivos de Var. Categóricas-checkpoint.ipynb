{
 "cells": [
  {
   "cell_type": "markdown",
   "id": "eeac5944",
   "metadata": {},
   "source": [
    "# Obteniendo Estadísticos Descriptivos de Variables Categóricas"
   ]
  },
  {
   "cell_type": "code",
   "execution_count": 1,
   "id": "fa796159",
   "metadata": {},
   "outputs": [],
   "source": [
    "import pandas as pd"
   ]
  },
  {
   "cell_type": "code",
   "execution_count": 4,
   "id": "b21e4a2b",
   "metadata": {},
   "outputs": [
    {
     "data": {
      "text/html": [
       "<div>\n",
       "<style scoped>\n",
       "    .dataframe tbody tr th:only-of-type {\n",
       "        vertical-align: middle;\n",
       "    }\n",
       "\n",
       "    .dataframe tbody tr th {\n",
       "        vertical-align: top;\n",
       "    }\n",
       "\n",
       "    .dataframe thead th {\n",
       "        text-align: right;\n",
       "    }\n",
       "</style>\n",
       "<table border=\"1\" class=\"dataframe\">\n",
       "  <thead>\n",
       "    <tr style=\"text-align: right;\">\n",
       "      <th></th>\n",
       "      <th>pH</th>\n",
       "      <th>EC</th>\n",
       "      <th>Hortaliza</th>\n",
       "      <th>Sistema</th>\n",
       "      <th>Duracion_Ciclo</th>\n",
       "      <th>Costo</th>\n",
       "      <th>Ganancia</th>\n",
       "    </tr>\n",
       "    <tr>\n",
       "      <th>Cultivo</th>\n",
       "      <th></th>\n",
       "      <th></th>\n",
       "      <th></th>\n",
       "      <th></th>\n",
       "      <th></th>\n",
       "      <th></th>\n",
       "      <th></th>\n",
       "    </tr>\n",
       "  </thead>\n",
       "  <tbody>\n",
       "    <tr>\n",
       "      <th>Brocoli</th>\n",
       "      <td>6 to 6.8</td>\n",
       "      <td>2.8 to 3.5</td>\n",
       "      <td>Flor</td>\n",
       "      <td>NFT</td>\n",
       "      <td>70-90</td>\n",
       "      <td>10</td>\n",
       "      <td>29</td>\n",
       "    </tr>\n",
       "    <tr>\n",
       "      <th>Calabacita</th>\n",
       "      <td>6</td>\n",
       "      <td>1.8 to 2.4</td>\n",
       "      <td>Fruto</td>\n",
       "      <td>Goteo</td>\n",
       "      <td>45</td>\n",
       "      <td>12</td>\n",
       "      <td>33</td>\n",
       "    </tr>\n",
       "    <tr>\n",
       "      <th>Pepino</th>\n",
       "      <td>5 to 5.5</td>\n",
       "      <td>1.7 to 2</td>\n",
       "      <td>Fruto</td>\n",
       "      <td>Goteo</td>\n",
       "      <td>70-80</td>\n",
       "      <td>8</td>\n",
       "      <td>27</td>\n",
       "    </tr>\n",
       "    <tr>\n",
       "      <th>Pimientos</th>\n",
       "      <td>5.5 to 6</td>\n",
       "      <td>0.8 to 1.8</td>\n",
       "      <td>Fruto</td>\n",
       "      <td>Goteo</td>\n",
       "      <td>65</td>\n",
       "      <td>30</td>\n",
       "      <td>75</td>\n",
       "    </tr>\n",
       "    <tr>\n",
       "      <th>fresa</th>\n",
       "      <td>6</td>\n",
       "      <td>1.8 to 2.2</td>\n",
       "      <td>Fruto</td>\n",
       "      <td>NFT</td>\n",
       "      <td>120-150</td>\n",
       "      <td>55</td>\n",
       "      <td>100</td>\n",
       "    </tr>\n",
       "    <tr>\n",
       "      <th>Tomate</th>\n",
       "      <td>6 to 6.5</td>\n",
       "      <td>2 to 4</td>\n",
       "      <td>Fruto</td>\n",
       "      <td>Goteo</td>\n",
       "      <td>110-120</td>\n",
       "      <td>20</td>\n",
       "      <td>32</td>\n",
       "    </tr>\n",
       "    <tr>\n",
       "      <th>Albahaca</th>\n",
       "      <td>5.5 to 6</td>\n",
       "      <td>1 to 1.6</td>\n",
       "      <td>Hoja</td>\n",
       "      <td>NFT</td>\n",
       "      <td>90</td>\n",
       "      <td>80</td>\n",
       "      <td>150</td>\n",
       "    </tr>\n",
       "    <tr>\n",
       "      <th>Repollo</th>\n",
       "      <td>6.5 to 7</td>\n",
       "      <td>2.5 to 3</td>\n",
       "      <td>Hoja</td>\n",
       "      <td>NFT</td>\n",
       "      <td>80-100</td>\n",
       "      <td>7</td>\n",
       "      <td>19</td>\n",
       "    </tr>\n",
       "    <tr>\n",
       "      <th>Apio</th>\n",
       "      <td>6.5</td>\n",
       "      <td>1.8 to 2.4</td>\n",
       "      <td>Hoja</td>\n",
       "      <td>NFT</td>\n",
       "      <td>90-120</td>\n",
       "      <td>15</td>\n",
       "      <td>26</td>\n",
       "    </tr>\n",
       "    <tr>\n",
       "      <th>Lechuga</th>\n",
       "      <td>6 to 7</td>\n",
       "      <td>1.2 to 1.8</td>\n",
       "      <td>Hoja</td>\n",
       "      <td>NFT</td>\n",
       "      <td>80-90</td>\n",
       "      <td>10</td>\n",
       "      <td>21</td>\n",
       "    </tr>\n",
       "    <tr>\n",
       "      <th>Perejil</th>\n",
       "      <td>6 to 6.5</td>\n",
       "      <td>1.8 to 2.2</td>\n",
       "      <td>Hoja</td>\n",
       "      <td>NFT</td>\n",
       "      <td>80</td>\n",
       "      <td>45</td>\n",
       "      <td>70</td>\n",
       "    </tr>\n",
       "    <tr>\n",
       "      <th>Rabano</th>\n",
       "      <td>6 to 7</td>\n",
       "      <td>1.4 to 1.8</td>\n",
       "      <td>Raiz</td>\n",
       "      <td>Aeroponia</td>\n",
       "      <td>60-70</td>\n",
       "      <td>18</td>\n",
       "      <td>35</td>\n",
       "    </tr>\n",
       "    <tr>\n",
       "      <th>Espinacas</th>\n",
       "      <td>6 to 7</td>\n",
       "      <td>1.8 to 2.3</td>\n",
       "      <td>Hoja</td>\n",
       "      <td>NFT</td>\n",
       "      <td>75</td>\n",
       "      <td>73</td>\n",
       "      <td>160</td>\n",
       "    </tr>\n",
       "    <tr>\n",
       "      <th>Zanahoria</th>\n",
       "      <td>5.8 to 6.3</td>\n",
       "      <td>1.6 to 2.0</td>\n",
       "      <td>Raiz</td>\n",
       "      <td>Aeroponia</td>\n",
       "      <td>90-100</td>\n",
       "      <td>6</td>\n",
       "      <td>11</td>\n",
       "    </tr>\n",
       "    <tr>\n",
       "      <th>Cebollin</th>\n",
       "      <td>6.0 to 7.0</td>\n",
       "      <td>1.4  to 1.8</td>\n",
       "      <td>Tallo</td>\n",
       "      <td>NFT</td>\n",
       "      <td>120</td>\n",
       "      <td>30</td>\n",
       "      <td>75</td>\n",
       "    </tr>\n",
       "  </tbody>\n",
       "</table>\n",
       "</div>"
      ],
      "text/plain": [
       "                    pH           EC Hortaliza    Sistema Duracion_Ciclo  \\\n",
       "Cultivo                                                                   \n",
       "Brocoli       6 to 6.8   2.8 to 3.5      Flor        NFT          70-90   \n",
       "Calabacita           6   1.8 to 2.4     Fruto      Goteo             45   \n",
       "Pepino        5 to 5.5     1.7 to 2     Fruto      Goteo          70-80   \n",
       "Pimientos     5.5 to 6   0.8 to 1.8     Fruto      Goteo             65   \n",
       "fresa                6   1.8 to 2.2     Fruto        NFT        120-150   \n",
       "Tomate        6 to 6.5       2 to 4     Fruto      Goteo        110-120   \n",
       "Albahaca      5.5 to 6     1 to 1.6      Hoja        NFT             90   \n",
       "Repollo       6.5 to 7     2.5 to 3      Hoja        NFT         80-100   \n",
       "Apio               6.5   1.8 to 2.4      Hoja        NFT         90-120   \n",
       "Lechuga         6 to 7   1.2 to 1.8      Hoja        NFT          80-90   \n",
       "Perejil       6 to 6.5   1.8 to 2.2      Hoja        NFT             80   \n",
       "Rabano          6 to 7   1.4 to 1.8      Raiz  Aeroponia          60-70   \n",
       "Espinacas       6 to 7   1.8 to 2.3      Hoja        NFT             75   \n",
       "Zanahoria   5.8 to 6.3   1.6 to 2.0      Raiz  Aeroponia         90-100   \n",
       "Cebollin    6.0 to 7.0  1.4  to 1.8     Tallo        NFT            120   \n",
       "\n",
       "            Costo  Ganancia  \n",
       "Cultivo                      \n",
       "Brocoli        10        29  \n",
       "Calabacita     12        33  \n",
       "Pepino          8        27  \n",
       "Pimientos      30        75  \n",
       "fresa          55       100  \n",
       "Tomate         20        32  \n",
       "Albahaca       80       150  \n",
       "Repollo         7        19  \n",
       "Apio           15        26  \n",
       "Lechuga        10        21  \n",
       "Perejil        45        70  \n",
       "Rabano         18        35  \n",
       "Espinacas      73       160  \n",
       "Zanahoria       6        11  \n",
       "Cebollin       30        75  "
      ]
     },
     "execution_count": 4,
     "metadata": {},
     "output_type": "execute_result"
    }
   ],
   "source": [
    "hidroponia = pd.read_csv('Hidroponia_costos.csv', index_col = 0)\n",
    "hidroponia"
   ]
  },
  {
   "cell_type": "markdown",
   "id": "dde275b4",
   "metadata": {},
   "source": [
    "Características generales de la COLUMNA:"
   ]
  },
  {
   "cell_type": "code",
   "execution_count": 5,
   "id": "ddca0d9e",
   "metadata": {},
   "outputs": [
    {
     "data": {
      "text/plain": [
       "count      15\n",
       "unique      3\n",
       "top       NFT\n",
       "freq        9\n",
       "Name: Sistema, dtype: object"
      ]
     },
     "execution_count": 5,
     "metadata": {},
     "output_type": "execute_result"
    }
   ],
   "source": [
    "hidroponia.Sistema.describe() # count(cantidad filas) unique(cantidad categorias) top (moda)\n",
    "# freq (frecuencia de la moda)"
   ]
  },
  {
   "cell_type": "markdown",
   "id": "db3f6247",
   "metadata": {},
   "source": [
    "Cantidad de valores en la COLUMNA:"
   ]
  },
  {
   "cell_type": "code",
   "execution_count": 6,
   "id": "9eb9e4fb",
   "metadata": {},
   "outputs": [
    {
     "data": {
      "text/plain": [
       "15"
      ]
     },
     "execution_count": 6,
     "metadata": {},
     "output_type": "execute_result"
    }
   ],
   "source": [
    "hidroponia.Sistema.count() #Cantidad de valores que tiene la columna"
   ]
  },
  {
   "cell_type": "markdown",
   "id": "ffae8a99",
   "metadata": {},
   "source": [
    "cantidad de categorias que tiene la COLUMNA:"
   ]
  },
  {
   "cell_type": "code",
   "execution_count": 8,
   "id": "18b1b4aa",
   "metadata": {},
   "outputs": [
    {
     "data": {
      "text/plain": [
       "3"
      ]
     },
     "execution_count": 8,
     "metadata": {},
     "output_type": "execute_result"
    }
   ],
   "source": [
    "hidroponia.Sistema.nunique() # Cantidad de categorias que tiene la COLUMNA"
   ]
  },
  {
   "cell_type": "markdown",
   "id": "9c336414",
   "metadata": {},
   "source": [
    "Categorias de la variable SISTEMA:"
   ]
  },
  {
   "cell_type": "code",
   "execution_count": 9,
   "id": "5744ba11",
   "metadata": {},
   "outputs": [
    {
     "data": {
      "text/plain": [
       "array(['NFT', 'Goteo', 'Aeroponia'], dtype=object)"
      ]
     },
     "execution_count": 9,
     "metadata": {},
     "output_type": "execute_result"
    }
   ],
   "source": [
    "hidroponia.Sistema.unique()"
   ]
  },
  {
   "cell_type": "markdown",
   "id": "28443e6e",
   "metadata": {},
   "source": [
    "MODA:"
   ]
  },
  {
   "cell_type": "code",
   "execution_count": 10,
   "id": "623c0539",
   "metadata": {},
   "outputs": [
    {
     "data": {
      "text/plain": [
       "0    NFT\n",
       "Name: Sistema, dtype: object"
      ]
     },
     "execution_count": 10,
     "metadata": {},
     "output_type": "execute_result"
    }
   ],
   "source": [
    "hidroponia.Sistema.mode()"
   ]
  },
  {
   "cell_type": "code",
   "execution_count": 11,
   "id": "50cecdf7",
   "metadata": {},
   "outputs": [
    {
     "data": {
      "text/plain": [
       "pandas.core.series.Series"
      ]
     },
     "execution_count": 11,
     "metadata": {},
     "output_type": "execute_result"
    }
   ],
   "source": [
    "type(hidroponia.Sistema.mode())"
   ]
  },
  {
   "cell_type": "code",
   "execution_count": 12,
   "id": "82d3fe2c",
   "metadata": {},
   "outputs": [
    {
     "data": {
      "text/plain": [
       "'NFT'"
      ]
     },
     "execution_count": 12,
     "metadata": {},
     "output_type": "execute_result"
    }
   ],
   "source": [
    "hidroponia.Sistema.mode()[0]"
   ]
  },
  {
   "cell_type": "markdown",
   "id": "66633302",
   "metadata": {},
   "source": [
    "FRECUENCIA ABSOLUTA:"
   ]
  },
  {
   "cell_type": "code",
   "execution_count": 13,
   "id": "4d6e8d47",
   "metadata": {},
   "outputs": [
    {
     "data": {
      "text/plain": [
       "NFT          9\n",
       "Goteo        4\n",
       "Aeroponia    2\n",
       "Name: Sistema, dtype: int64"
      ]
     },
     "execution_count": 13,
     "metadata": {},
     "output_type": "execute_result"
    }
   ],
   "source": [
    "hidroponia.Sistema.value_counts()"
   ]
  },
  {
   "cell_type": "markdown",
   "id": "f8f2f181",
   "metadata": {},
   "source": [
    "FRECUENCIA ABSOLUTA EN ORDEN ASCENDENTE:"
   ]
  },
  {
   "cell_type": "code",
   "execution_count": 14,
   "id": "8e2687bb",
   "metadata": {},
   "outputs": [
    {
     "data": {
      "text/plain": [
       "Aeroponia    2\n",
       "Goteo        4\n",
       "NFT          9\n",
       "Name: Sistema, dtype: int64"
      ]
     },
     "execution_count": 14,
     "metadata": {},
     "output_type": "execute_result"
    }
   ],
   "source": [
    "hidroponia.Sistema.value_counts(ascending = True)"
   ]
  },
  {
   "cell_type": "markdown",
   "id": "d483823b",
   "metadata": {},
   "source": [
    "FRECUENCIA RELATIVA:"
   ]
  },
  {
   "cell_type": "code",
   "execution_count": 15,
   "id": "c4fa556a",
   "metadata": {},
   "outputs": [
    {
     "data": {
      "text/plain": [
       "NFT          0.600000\n",
       "Goteo        0.266667\n",
       "Aeroponia    0.133333\n",
       "Name: Sistema, dtype: float64"
      ]
     },
     "execution_count": 15,
     "metadata": {},
     "output_type": "execute_result"
    }
   ],
   "source": [
    "hidroponia.Sistema.value_counts(normalize = True)"
   ]
  },
  {
   "cell_type": "markdown",
   "id": "5b936e26",
   "metadata": {},
   "source": [
    "FRECUENCIA RELATIVA EN ORDEN ASCENDENTE:"
   ]
  },
  {
   "cell_type": "code",
   "execution_count": 16,
   "id": "1cd26a8b",
   "metadata": {},
   "outputs": [
    {
     "data": {
      "text/plain": [
       "Aeroponia    0.133333\n",
       "Goteo        0.266667\n",
       "NFT          0.600000\n",
       "Name: Sistema, dtype: float64"
      ]
     },
     "execution_count": 16,
     "metadata": {},
     "output_type": "execute_result"
    }
   ],
   "source": [
    "hidroponia.Sistema.value_counts(normalize = True, ascending = True)"
   ]
  },
  {
   "cell_type": "code",
   "execution_count": null,
   "id": "177b61b9",
   "metadata": {},
   "outputs": [],
   "source": []
  }
 ],
 "metadata": {
  "kernelspec": {
   "display_name": "Python 3 (ipykernel)",
   "language": "python",
   "name": "python3"
  },
  "language_info": {
   "codemirror_mode": {
    "name": "ipython",
    "version": 3
   },
   "file_extension": ".py",
   "mimetype": "text/x-python",
   "name": "python",
   "nbconvert_exporter": "python",
   "pygments_lexer": "ipython3",
   "version": "3.11.3"
  }
 },
 "nbformat": 4,
 "nbformat_minor": 5
}
