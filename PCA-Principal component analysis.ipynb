{
 "cells": [
  {
   "cell_type": "markdown",
   "id": "49f2bc98",
   "metadata": {},
   "source": [
    "# Principal component analysis"
   ]
  },
  {
   "cell_type": "markdown",
   "id": "20b8c75e",
   "metadata": {},
   "source": [
    "PCA nos ayuda a reducir la dimensionalidad de un conjunto de datos, en una, dos o tres dimensiones.\n",
    "\n",
    "UTILIDAD:\n",
    "\n",
    "PCA (Principal Component Analysis) es una técnica ampliamente utilizada en el análisis de datos y tiene varias aplicaciones importantes:\n",
    "\n",
    "Reducción de la dimensionalidad: PCA ayuda a reducir la cantidad de características o variables en un conjunto de datos al transformar los datos originales en un nuevo conjunto de datos con menos dimensiones, llamadas componentes principales. Esto es especialmente útil cuando tienes un gran número de características y deseas simplificar el análisis sin perder demasiada información.\n",
    "\n",
    "Visualización de datos: PCA permite visualizar datos de alta dimensionalidad en un espacio de menor dimensión. Al proyectar los datos en un espacio de componentes principales, puedes representar gráficamente los datos de manera más efectiva. Esto es útil para explorar y comprender la estructura de los datos.\n",
    "\n",
    "Eliminación de multicolinealidad: Cuando tienes características altamente correlacionadas en tus datos, PCA puede ayudar a reducir esta multicolinealidad al transformar las características originales en componentes principales no correlacionados. Esto es beneficioso para ciertos modelos de aprendizaje automático, ya que la multicolinealidad puede afectar negativamente el rendimiento de esos modelos.\n",
    "\n",
    "Compresión de datos: PCA puede utilizarse para comprimir datos mientras se mantiene una cantidad razonable de información. Esto es útil en aplicaciones de almacenamiento y transmisión de datos cuando se desea reducir el espacio necesario sin perder demasiada precisión.\n",
    "\n",
    "Análisis de patrones y detección de anomalías: PCA puede ayudar a identificar patrones ocultos en los datos y detectar anomalías al resaltar las principales fuentes de variación en los datos. Esto es útil en campos como la detección de fraudes, el análisis de imágenes y la biología computacional.\n",
    "\n",
    "Preprocesamiento de datos: PCA se utiliza a menudo como una técnica de preprocesamiento antes de aplicar otros algoritmos de aprendizaje automático. Puede ayudar a mejorar el rendimiento de los modelos al reducir la dimensionalidad y mejorar la interpretación de los resultados.\n",
    "\n",
    "Reducción de ruido: PCA puede ayudar a reducir el ruido en los datos al centrarse en las principales fuentes de variación y reducir la influencia de errores o datos atípicos.\n",
    "\n",
    "En resumen, PCA es una herramienta versátil en el análisis de datos que puede utilizarse para simplificar, visualizar y mejorar la calidad de los datos, lo que facilita la interpretación y el análisis de conjuntos de datos complejos.\n",
    "\n",
    "PCA Forma parte del preprocesamiento pata otros análisis, tales como:\n",
    "- Clustering\n",
    "- Regresión\n",
    "- Clasificación\n",
    "\n",
    "PASOS DEL PCA:\n",
    "1) Estandarización de los datos (aconseguir un Promedio = 0, i Desv. Est. = 1)\n",
    "2) Obtención de la matriz de covarianza\n",
    "3) Cálculo de los eigenvalores y eigenvectores\n",
    "4) Creación de los componentes principales\n",
    "5) Selección de los componentes principales a utilizar, cojeremos los dos más importantes \n",
    "    para proyectarlos en un plano\n"
   ]
  },
  {
   "cell_type": "code",
   "execution_count": 28,
   "id": "2c14b019",
   "metadata": {},
   "outputs": [],
   "source": [
    "# IMPORTAMOS LIBRERIAS\n",
    "\n",
    "import pandas as pd"
   ]
  },
  {
   "cell_type": "code",
   "execution_count": 29,
   "id": "83f47bbc",
   "metadata": {},
   "outputs": [],
   "source": [
    "Estudiantes = pd.read_csv('Ejemplo Estudiantes.csv')"
   ]
  },
  {
   "cell_type": "code",
   "execution_count": 30,
   "id": "8d993bf3",
   "metadata": {},
   "outputs": [
    {
     "data": {
      "text/html": [
       "<div>\n",
       "<style scoped>\n",
       "    .dataframe tbody tr th:only-of-type {\n",
       "        vertical-align: middle;\n",
       "    }\n",
       "\n",
       "    .dataframe tbody tr th {\n",
       "        vertical-align: top;\n",
       "    }\n",
       "\n",
       "    .dataframe thead th {\n",
       "        text-align: right;\n",
       "    }\n",
       "</style>\n",
       "<table border=\"1\" class=\"dataframe\">\n",
       "  <thead>\n",
       "    <tr style=\"text-align: right;\">\n",
       "      <th></th>\n",
       "      <th>Estudiante</th>\n",
       "      <th>Matematicas</th>\n",
       "      <th>Ciencias</th>\n",
       "      <th>Espanol</th>\n",
       "      <th>Historia</th>\n",
       "      <th>Deportes</th>\n",
       "    </tr>\n",
       "  </thead>\n",
       "  <tbody>\n",
       "    <tr>\n",
       "      <th>0</th>\n",
       "      <td>Lucia</td>\n",
       "      <td>7.0</td>\n",
       "      <td>6.5</td>\n",
       "      <td>9.2</td>\n",
       "      <td>8.6</td>\n",
       "      <td>8.0</td>\n",
       "    </tr>\n",
       "    <tr>\n",
       "      <th>1</th>\n",
       "      <td>Pedro</td>\n",
       "      <td>7.5</td>\n",
       "      <td>9.4</td>\n",
       "      <td>7.3</td>\n",
       "      <td>7.0</td>\n",
       "      <td>7.0</td>\n",
       "    </tr>\n",
       "    <tr>\n",
       "      <th>2</th>\n",
       "      <td>Ines</td>\n",
       "      <td>7.6</td>\n",
       "      <td>9.2</td>\n",
       "      <td>8.0</td>\n",
       "      <td>8.0</td>\n",
       "      <td>7.5</td>\n",
       "    </tr>\n",
       "    <tr>\n",
       "      <th>3</th>\n",
       "      <td>Luis</td>\n",
       "      <td>5.0</td>\n",
       "      <td>6.5</td>\n",
       "      <td>6.5</td>\n",
       "      <td>7.0</td>\n",
       "      <td>9.0</td>\n",
       "    </tr>\n",
       "    <tr>\n",
       "      <th>4</th>\n",
       "      <td>Andres</td>\n",
       "      <td>6.0</td>\n",
       "      <td>6.0</td>\n",
       "      <td>7.8</td>\n",
       "      <td>8.9</td>\n",
       "      <td>7.3</td>\n",
       "    </tr>\n",
       "    <tr>\n",
       "      <th>5</th>\n",
       "      <td>Ana</td>\n",
       "      <td>7.8</td>\n",
       "      <td>9.6</td>\n",
       "      <td>7.7</td>\n",
       "      <td>8.0</td>\n",
       "      <td>6.5</td>\n",
       "    </tr>\n",
       "    <tr>\n",
       "      <th>6</th>\n",
       "      <td>Carlos</td>\n",
       "      <td>6.3</td>\n",
       "      <td>6.4</td>\n",
       "      <td>8.2</td>\n",
       "      <td>9.0</td>\n",
       "      <td>7.2</td>\n",
       "    </tr>\n",
       "    <tr>\n",
       "      <th>7</th>\n",
       "      <td>Jose</td>\n",
       "      <td>7.9</td>\n",
       "      <td>9.7</td>\n",
       "      <td>7.5</td>\n",
       "      <td>8.0</td>\n",
       "      <td>6.0</td>\n",
       "    </tr>\n",
       "    <tr>\n",
       "      <th>8</th>\n",
       "      <td>Sonia</td>\n",
       "      <td>6.0</td>\n",
       "      <td>6.0</td>\n",
       "      <td>6.5</td>\n",
       "      <td>5.5</td>\n",
       "      <td>8.7</td>\n",
       "    </tr>\n",
       "    <tr>\n",
       "      <th>9</th>\n",
       "      <td>Maria</td>\n",
       "      <td>6.8</td>\n",
       "      <td>7.2</td>\n",
       "      <td>8.7</td>\n",
       "      <td>9.0</td>\n",
       "      <td>7.0</td>\n",
       "    </tr>\n",
       "  </tbody>\n",
       "</table>\n",
       "</div>"
      ],
      "text/plain": [
       "  Estudiante  Matematicas  Ciencias  Espanol  Historia  Deportes\n",
       "0      Lucia          7.0       6.5      9.2       8.6       8.0\n",
       "1      Pedro          7.5       9.4      7.3       7.0       7.0\n",
       "2       Ines          7.6       9.2      8.0       8.0       7.5\n",
       "3       Luis          5.0       6.5      6.5       7.0       9.0\n",
       "4     Andres          6.0       6.0      7.8       8.9       7.3\n",
       "5        Ana          7.8       9.6      7.7       8.0       6.5\n",
       "6     Carlos          6.3       6.4      8.2       9.0       7.2\n",
       "7       Jose          7.9       9.7      7.5       8.0       6.0\n",
       "8      Sonia          6.0       6.0      6.5       5.5       8.7\n",
       "9      Maria          6.8       7.2      8.7       9.0       7.0"
      ]
     },
     "execution_count": 30,
     "metadata": {},
     "output_type": "execute_result"
    }
   ],
   "source": [
    "Estudiantes"
   ]
  },
  {
   "cell_type": "code",
   "execution_count": 44,
   "id": "4064d8cf",
   "metadata": {},
   "outputs": [
    {
     "data": {
      "text/html": [
       "<div>\n",
       "<style scoped>\n",
       "    .dataframe tbody tr th:only-of-type {\n",
       "        vertical-align: middle;\n",
       "    }\n",
       "\n",
       "    .dataframe tbody tr th {\n",
       "        vertical-align: top;\n",
       "    }\n",
       "\n",
       "    .dataframe thead th {\n",
       "        text-align: right;\n",
       "    }\n",
       "</style>\n",
       "<table border=\"1\" class=\"dataframe\">\n",
       "  <thead>\n",
       "    <tr style=\"text-align: right;\">\n",
       "      <th></th>\n",
       "      <th>Matematicas</th>\n",
       "      <th>Ciencias</th>\n",
       "      <th>Espanol</th>\n",
       "      <th>Historia</th>\n",
       "      <th>Deportes</th>\n",
       "    </tr>\n",
       "  </thead>\n",
       "  <tbody>\n",
       "    <tr>\n",
       "      <th>0</th>\n",
       "      <td>7.0</td>\n",
       "      <td>6.5</td>\n",
       "      <td>9.2</td>\n",
       "      <td>8.6</td>\n",
       "      <td>8.0</td>\n",
       "    </tr>\n",
       "    <tr>\n",
       "      <th>1</th>\n",
       "      <td>7.5</td>\n",
       "      <td>9.4</td>\n",
       "      <td>7.3</td>\n",
       "      <td>7.0</td>\n",
       "      <td>7.0</td>\n",
       "    </tr>\n",
       "    <tr>\n",
       "      <th>2</th>\n",
       "      <td>7.6</td>\n",
       "      <td>9.2</td>\n",
       "      <td>8.0</td>\n",
       "      <td>8.0</td>\n",
       "      <td>7.5</td>\n",
       "    </tr>\n",
       "    <tr>\n",
       "      <th>3</th>\n",
       "      <td>5.0</td>\n",
       "      <td>6.5</td>\n",
       "      <td>6.5</td>\n",
       "      <td>7.0</td>\n",
       "      <td>9.0</td>\n",
       "    </tr>\n",
       "    <tr>\n",
       "      <th>4</th>\n",
       "      <td>6.0</td>\n",
       "      <td>6.0</td>\n",
       "      <td>7.8</td>\n",
       "      <td>8.9</td>\n",
       "      <td>7.3</td>\n",
       "    </tr>\n",
       "    <tr>\n",
       "      <th>5</th>\n",
       "      <td>7.8</td>\n",
       "      <td>9.6</td>\n",
       "      <td>7.7</td>\n",
       "      <td>8.0</td>\n",
       "      <td>6.5</td>\n",
       "    </tr>\n",
       "    <tr>\n",
       "      <th>6</th>\n",
       "      <td>6.3</td>\n",
       "      <td>6.4</td>\n",
       "      <td>8.2</td>\n",
       "      <td>9.0</td>\n",
       "      <td>7.2</td>\n",
       "    </tr>\n",
       "    <tr>\n",
       "      <th>7</th>\n",
       "      <td>7.9</td>\n",
       "      <td>9.7</td>\n",
       "      <td>7.5</td>\n",
       "      <td>8.0</td>\n",
       "      <td>6.0</td>\n",
       "    </tr>\n",
       "    <tr>\n",
       "      <th>8</th>\n",
       "      <td>6.0</td>\n",
       "      <td>6.0</td>\n",
       "      <td>6.5</td>\n",
       "      <td>5.5</td>\n",
       "      <td>8.7</td>\n",
       "    </tr>\n",
       "    <tr>\n",
       "      <th>9</th>\n",
       "      <td>6.8</td>\n",
       "      <td>7.2</td>\n",
       "      <td>8.7</td>\n",
       "      <td>9.0</td>\n",
       "      <td>7.0</td>\n",
       "    </tr>\n",
       "  </tbody>\n",
       "</table>\n",
       "</div>"
      ],
      "text/plain": [
       "   Matematicas  Ciencias  Espanol  Historia  Deportes\n",
       "0          7.0       6.5      9.2       8.6       8.0\n",
       "1          7.5       9.4      7.3       7.0       7.0\n",
       "2          7.6       9.2      8.0       8.0       7.5\n",
       "3          5.0       6.5      6.5       7.0       9.0\n",
       "4          6.0       6.0      7.8       8.9       7.3\n",
       "5          7.8       9.6      7.7       8.0       6.5\n",
       "6          6.3       6.4      8.2       9.0       7.2\n",
       "7          7.9       9.7      7.5       8.0       6.0\n",
       "8          6.0       6.0      6.5       5.5       8.7\n",
       "9          6.8       7.2      8.7       9.0       7.0"
      ]
     },
     "execution_count": 44,
     "metadata": {},
     "output_type": "execute_result"
    }
   ],
   "source": [
    "# 'Estudiante' es una columna que contiene nombres y debes eliminarla\n",
    "Estudiantes = Estudiantes.dropna()  # Elimina la columna 'Estudiante'\n",
    "\n",
    "Estudiantes"
   ]
  },
  {
   "cell_type": "markdown",
   "id": "1ffd4ced",
   "metadata": {},
   "source": [
    "#### ESTANDARIZAMOS NUESTROS DATOS"
   ]
  },
  {
   "cell_type": "markdown",
   "id": "f981c89d",
   "metadata": {},
   "source": [
    "Estandarizar datos en el contexto de la ciencia de datos y la estadística se refiere al proceso de transformar variables para que tengan una media de cero y una desviación estándar de uno.\n",
    "\n",
    "La estandarización de datos se utiliza en diversas aplicaciones en ciencia de datos y estadística por varias razones importantes:\n",
    "\n",
    "Comparación de Variables: La estandarización permite comparar variables que tienen diferentes escalas y unidades. Cuando las variables tienen rangos muy diferentes, es difícil hacer comparaciones significativas. Al estandarizar los datos, todas las variables tienen una escala común (media cero, desviación estándar uno), lo que facilita la comparación.\n",
    "\n",
    "Mejora el Rendimiento de Modelos de Aprendizaje Automático: Muchos algoritmos de aprendizaje automático funcionan mejor cuando los datos están estandarizados. La estandarización ayuda a que los algoritmos converjan más rápido durante el entrenamiento, lo que puede ahorrar tiempo y recursos computacionales. Además, algunos algoritmos, como las máquinas de soporte vectorial (SVM) y las redes neuronales, asumen que los datos están estandarizados.\n",
    "\n",
    "Interpretación de Coeficientes: En el contexto de modelos de regresión lineal u otros modelos lineales, la estandarización facilita la interpretación de los coeficientes. Los coeficientes estandarizados indican cuánto cambia la variable dependiente (en unidades de desviación estándar) por un cambio de una desviación estándar en la variable independiente.\n",
    "\n",
    "Reducción de la Influencia de Valores Atípicos: La estandarización puede ayudar a reducir la influencia de valores atípicos en el análisis de datos y en los modelos. Esto se debe a que los valores atípicos tienden a tener un efecto más pronunciado en variables con escalas grandes. Estandarizar los datos hace que los valores atípicos tengan menos impacto en la varianza de los datos.\n",
    "\n",
    "Visualización de Datos: La estandarización puede ser útil al realizar visualizaciones de datos, ya que ayuda a que los datos tengan una escala similar en los ejes, lo que facilita la interpretación de gráficos.\n",
    "\n",
    "Mejora la Convergencia de Algoritmos de Optimización: En problemas de optimización numérica, como la optimización de funciones, la estandarización puede ayudar a mejorar la convergencia de los algoritmos. Esto es especialmente relevante en la optimización de parámetros de modelos y en algoritmos de aprendizaje profundo.\n",
    "\n",
    "En resumen, la estandarización de datos es una técnica importante en ciencia de datos y estadística que se utiliza para mejorar la comparabilidad de variables, facilitar el entrenamiento de modelos de aprendizaje automático, interpretar coeficientes en modelos lineales y reducir la influencia de valores atípicos. Ayuda a asegurar que los datos tengan una escala común, lo que simplifica el análisis y la modelización de datos en una variedad de aplicaciones.\n"
   ]
  },
  {
   "cell_type": "code",
   "execution_count": 45,
   "id": "01796519",
   "metadata": {},
   "outputs": [],
   "source": [
    "from sklearn.preprocessing import StandardScaler"
   ]
  },
  {
   "cell_type": "code",
   "execution_count": 46,
   "id": "6cb47697",
   "metadata": {},
   "outputs": [],
   "source": [
    "# Crear un objeto  StandardScaler\n",
    "scaler =  StandardScaler(with_mean = True, with_std = True)"
   ]
  },
  {
   "cell_type": "code",
   "execution_count": 47,
   "id": "2b72c431",
   "metadata": {},
   "outputs": [],
   "source": [
    "# Ajustar el scaler a los datos y transformar los datos estandarizados\n",
    "Estudiantes_std = scaler.fit_transform(Estudiantes)"
   ]
  },
  {
   "cell_type": "code",
   "execution_count": 49,
   "id": "b5dc11ee",
   "metadata": {},
   "outputs": [
    {
     "data": {
      "text/plain": [
       "array([[ 0.23263076, -0.7529862 ,  1.78848525,  0.65792263,  0.65858084],\n",
       "       [ 0.78651352,  1.14584856, -0.53899555, -0.84590053, -0.47690337],\n",
       "       [ 0.89729007,  1.01489444,  0.31849737,  0.09398895,  0.09083874],\n",
       "       [-1.98290027, -0.7529862 , -1.51898747, -0.84590053,  1.79406505],\n",
       "       [-0.87513476, -1.0803715 ,  0.07349939,  0.93988948, -0.13625811],\n",
       "       [ 1.11884317,  1.27680268, -0.0489996 ,  0.09398895, -1.04464547],\n",
       "       [-0.5428051 , -0.81846326,  0.56349535,  1.03387842, -0.24980653],\n",
       "       [ 1.22961972,  1.34227974, -0.29399757,  0.09398895, -1.61238758],\n",
       "       [-0.87513476, -1.0803715 , -1.51898747, -2.25573474,  1.45341979],\n",
       "       [ 0.01107766, -0.29464677,  1.1759903 ,  1.03387842, -0.47690337]])"
      ]
     },
     "execution_count": 49,
     "metadata": {},
     "output_type": "execute_result"
    }
   ],
   "source": [
    "# Imprimir los datos estandarizados\n",
    "Estudiantes_std"
   ]
  },
  {
   "cell_type": "markdown",
   "id": "2d9fa66e",
   "metadata": {},
   "source": [
    "Varianza Poblacional (σ²): La varianza poblacional se refiere a la medida de dispersión de una característica en toda la población completa. Es una medida que describe cuán dispersos están los valores de la población con respecto a la media poblacional.\n",
    "\n",
    "La varianza muestral, por otro lado, se calcula utilizando una muestra representativa de la población, no todos los datos de la población completa. Es una estimación de la varianza poblacional basada en la muestra y se utiliza para hacer inferencias sobre la población."
   ]
  },
  {
   "cell_type": "code",
   "execution_count": 63,
   "id": "37d539dc",
   "metadata": {},
   "outputs": [],
   "source": [
    "# Para ver si nuestros datos fueron correctamente estandarizados, \n",
    "# le pedimos que nos muestre la media y desv. estand. de los datos"
   ]
  },
  {
   "cell_type": "code",
   "execution_count": 64,
   "id": "4205e98f",
   "metadata": {},
   "outputs": [
    {
     "data": {
      "text/plain": [
       "-1.0973860709029282e-15"
      ]
     },
     "execution_count": 64,
     "metadata": {},
     "output_type": "execute_result"
    }
   ],
   "source": [
    "import numpy as np\n",
    "np.mean(Estudiantes_std[:,0]) # Vemos la mean y std de Matemáticas\n"
   ]
  },
  {
   "cell_type": "code",
   "execution_count": 65,
   "id": "06963f80",
   "metadata": {},
   "outputs": [
    {
     "data": {
      "text/plain": [
       "1.0"
      ]
     },
     "execution_count": 65,
     "metadata": {},
     "output_type": "execute_result"
    }
   ],
   "source": [
    "np.std(Estudiantes_std[:,0])"
   ]
  },
  {
   "cell_type": "markdown",
   "id": "38881bbc",
   "metadata": {},
   "source": [
    "### Llevamos a cabo el Análisis de Componentes Principales"
   ]
  },
  {
   "cell_type": "code",
   "execution_count": 56,
   "id": "4f2c3b18",
   "metadata": {},
   "outputs": [],
   "source": [
    "from sklearn.decomposition import PCA\n",
    "\n",
    "# creamos el modelo PCA indicándole que eueremos solamente 2 componentes principales\n",
    "pca = PCA(n_components = 2)"
   ]
  },
  {
   "cell_type": "code",
   "execution_count": 67,
   "id": "cd2bfb3a",
   "metadata": {},
   "outputs": [],
   "source": [
    "# Obtenemos los componentes principales\n",
    "Estudiantes_pca = pca.fit_transform(Estudiantes_std)"
   ]
  },
  {
   "cell_type": "code",
   "execution_count": 68,
   "id": "7838b03a",
   "metadata": {},
   "outputs": [
    {
     "name": "stdout",
     "output_type": "stream",
     "text": [
      "[[-0.32306263  1.7725245 ]\n",
      " [-0.66544057 -1.63870215]\n",
      " [-1.00254705 -0.51569247]\n",
      " [ 3.17209481 -0.26278201]\n",
      " [ 0.48886797  1.3654021 ]\n",
      " [-1.70863322 -1.02170044]\n",
      " [-0.06758577  1.46233642]\n",
      " [-2.01185516 -1.27586457]\n",
      " [ 3.04203029 -1.25488069]\n",
      " [-0.92386867  1.3693593 ]]\n"
     ]
    }
   ],
   "source": [
    "# Imprimir los datos transformados (Los componentes principales)\n",
    "# Lo que se busca con PCA es encontrar nuevas variables o componentes principales \n",
    "# que logren capturar la mayor parte de la variabilidad de nuestros datos y que sean\n",
    "# ortogonales (perpendiculares) entre sí.\n",
    "\n",
    "print(Estudiantes_pca)"
   ]
  },
  {
   "cell_type": "code",
   "execution_count": null,
   "id": "c68a0329",
   "metadata": {},
   "outputs": [],
   "source": []
  },
  {
   "cell_type": "markdown",
   "id": "d9bc54ef",
   "metadata": {},
   "source": [
    "#### Varianza explicada por cada componente\n",
    "\n",
    "La varianza proporciona información sobre cuán dispersos o extendidos están los valores en un conjunto de datos en relación con su media o promedio.\n",
    "\n",
    "Cuanto mayor sea la varianza, mayor será la dispersión de los datos. Por otro lado, una varianza baja indicaría que los valores tienden a estar más cerca de la media.\n",
    "\n",
    "La interpretación exacta de lo que representa esta varianza depende del contexto de tus datos. Si estás trabajando con datos que deberían ser bastante homogéneos o similares entre sí, una varianza de 0.9043800196790526 podría considerarse relativamente alta. Por otro lado, si estás trabajando con datos que naturalmente deberían ser muy variables, entonces esta varianza podría ser considerada baja.\n"
   ]
  },
  {
   "cell_type": "code",
   "execution_count": 69,
   "id": "aa521ceb",
   "metadata": {},
   "outputs": [
    {
     "data": {
      "text/plain": [
       "array([0.57864993, 0.32573008])"
      ]
     },
     "execution_count": 69,
     "metadata": {},
     "output_type": "execute_result"
    }
   ],
   "source": [
    "# Para saber cual es el porcentaje de la varianza explicada por cada componente, lo que haremos\n",
    "# es que nos despliegue la info almacenada en el modelo PCA en su atributo \"explained_variance_ratio_\"\n",
    "\n",
    "pca.explained_variance_ratio_"
   ]
  },
  {
   "cell_type": "code",
   "execution_count": 70,
   "id": "5a8b0a23",
   "metadata": {},
   "outputs": [
    {
     "data": {
      "text/plain": [
       "0.9043800196790526"
      ]
     },
     "execution_count": 70,
     "metadata": {},
     "output_type": "execute_result"
    }
   ],
   "source": [
    "np.sum(pca.explained_variance_ratio_)"
   ]
  },
  {
   "cell_type": "markdown",
   "id": "95768cba",
   "metadata": {},
   "source": [
    "Vemos que si usamos estos dos componentes: array([0.57864993, 0.32573008]), en vez de las \n",
    "5 variables originales, estaremos capturando el 0.9043800196790526 de la varianza, lo cual\n",
    "es muy alto como porcentaje."
   ]
  },
  {
   "cell_type": "markdown",
   "id": "61456dc5",
   "metadata": {},
   "source": [
    "Vamos ahora a crear el plano bidimensional para visualizar a los estudiantes, lo cual no\n",
    "se podía hacer antes porqué teniamos 5 variables."
   ]
  },
  {
   "cell_type": "markdown",
   "id": "c494c8d7",
   "metadata": {},
   "source": [
    "#### Ubicamos a los estudiantes en el plano bidimensional"
   ]
  },
  {
   "cell_type": "code",
   "execution_count": 72,
   "id": "6684df9b",
   "metadata": {
    "scrolled": true
   },
   "outputs": [
    {
     "data": {
      "image/png": "[encoded data removed]",
      "text/plain": [
       "<Figure size 500x500 with 1 Axes>"
      ]
     },
     "metadata": {},
     "output_type": "display_data"
    }
   ],
   "source": [
    "import matplotlib.pyplot as plt\n",
    "\n",
    "fig = plt.figure(figsize = (5,5))\n",
    "plt.rcParams[\"font.family\"] = \"serif\"\n",
    "\n",
    "x_label = 'Componente 1 (' + str(round(pca.explained_variance_ratio_[0]*100, 2)) + '%)'\n",
    "y_label = 'Componente 2 (' + str(round(pca.explained_variance_ratio_[1]*100, 2)) + '%)'\n",
    "\n",
    "nombres = Estudiantes.index\n",
    "\n",
    "ax = fig.add_subplot(1,1,1)\n",
    "ax.set_xlabel(x_label, fontsize = 10)\n",
    "ax.set_ylabel(y_label, fontsize = 10)\n",
    "ax.set_title('Componentes Principales', fontsize = 15, fontstyle = 'italic')\n",
    "ax.set_xlim(-3, 4)\n",
    "\n",
    "ax.scatter(x = Estudiantes_pca[:,0], y = Estudiantes_pca[:,1], s = 20)\n",
    "\n",
    "for i, nombre in enumerate(nombres):\n",
    "    ax.annotate(nombre, (Estudiantes_pca[i, 0]-0.2, Estudiantes_pca[i, 1]+0.05), fontsize = 8)"
   ]
  },
  {
   "cell_type": "code",
   "execution_count": null,
   "id": "0340b2f6",
   "metadata": {},
   "outputs": [],
   "source": []
  }
 ],
 "metadata": {
  "kernelspec": {
   "display_name": "Python 3 (ipykernel)",
   "language": "python",
   "name": "python3"
  },
  "language_info": {
   "codemirror_mode": {
    "name": "ipython",
    "version": 3
   },
   "file_extension": ".py",
   "mimetype": "text/x-python",
   "name": "python",
   "nbconvert_exporter": "python",
   "pygments_lexer": "ipython3",
   "version": "3.11.3"
  }
 },
 "nbformat": 4,
 "nbformat_minor": 5
}
